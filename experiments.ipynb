{
  "nbformat": 4,
  "nbformat_minor": 0,
  "metadata": {
    "colab": {
      "name": "experiments.ipynb",
      "provenance": [],
      "collapsed_sections": [],
      "authorship_tag": "ABX9TyPDRS+uY3sB8/rxnS1aQsih",
      "include_colab_link": true
    },
    "kernelspec": {
      "name": "python3",
      "display_name": "Python 3"
    }
  },
  "cells": [
    {
      "cell_type": "markdown",
      "metadata": {
        "id": "view-in-github",
        "colab_type": "text"
      },
      "source": [
        "<a href=\"https://colab.research.google.com/github/AGiannoutsos/Image_Classification_with_Convolutional_Autoencoder/blob/main/experiments.ipynb\" target=\"_parent\"><img src=\"https://colab.research.google.com/assets/colab-badge.svg\" alt=\"Open In Colab\"/></a>"
      ]
    },
    {
      "cell_type": "code",
      "metadata": {
        "colab": {
          "base_uri": "https://localhost:8080/"
        },
        "id": "Oa4twjvZRMFT",
        "outputId": "b7ddb235-c3f3-49a4-b3c4-349b2c141bf5"
      },
      "source": [
        "!git clone https://@github.com/AGiannoutsos/Image_Classification_with_Convolutional_Autoencoder.git"
      ],
      "execution_count": 5,
      "outputs": [
        {
          "output_type": "stream",
          "text": [
            "Cloning into 'Image_Classification_with_Convolutional_Autoencoder'...\n",
            "remote: Enumerating objects: 87, done.\u001b[K\n",
            "remote: Counting objects: 100% (87/87), done.\u001b[K\n",
            "remote: Compressing objects: 100% (59/59), done.\u001b[K\n",
            "remote: Total 87 (delta 36), reused 59 (delta 16), pack-reused 0\u001b[K\n",
            "Unpacking objects: 100% (87/87), done.\n"
          ],
          "name": "stdout"
        }
      ]
    },
    {
      "cell_type": "code",
      "metadata": {
        "colab": {
          "base_uri": "https://localhost:8080/"
        },
        "id": "c5Ye6g03S1XK",
        "outputId": "02ed85b7-8c63-47a7-a8ec-84099e895bbf"
      },
      "source": [
        "%cd Image_Classification_with_Convolutional_Autoencoder/"
      ],
      "execution_count": 20,
      "outputs": [
        {
          "output_type": "stream",
          "text": [
            "/content/Image_Classification_with_Convolutional_Autoencoder\n"
          ],
          "name": "stdout"
        }
      ]
    },
    {
      "cell_type": "code",
      "metadata": {
        "colab": {
          "base_uri": "https://localhost:8080/"
        },
        "id": "SvqHHV_nTEYT",
        "outputId": "847d44fe-e939-46f7-cd30-663a5db2258d"
      },
      "source": [
        ""
      ],
      "execution_count": 21,
      "outputs": [
        {
          "output_type": "stream",
          "text": [
            "autoencoder.py\t   data\t\t      models\t visualization.py\n",
            "classification.py  experiments.ipynb  README.md\n",
            "configuration\t   model.py\t      test.py\n"
          ],
          "name": "stdout"
        }
      ]
    },
    {
      "cell_type": "markdown",
      "metadata": {
        "id": "aijDOa4ATJt5"
      },
      "source": [
        "# Experiments and research for the best model"
      ]
    },
    {
      "cell_type": "code",
      "metadata": {
        "id": "7mkkGCoOTJaS"
      },
      "source": [
        ""
      ],
      "execution_count": null,
      "outputs": []
    }
  ]
}